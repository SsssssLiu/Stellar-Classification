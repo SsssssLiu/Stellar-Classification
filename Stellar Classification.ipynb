{
 "cells": [
  {
   "cell_type": "code",
   "execution_count": 19,
   "id": "fd06d22d",
   "metadata": {},
   "outputs": [],
   "source": [
    "import numpy as np\n",
    "import matplotlib.pyplot as plt \n",
    "import seaborn as sns; sns.set()\n",
    "%matplotlib inline\n",
    "import pandas as pd\n",
    "\n",
    "myData = pd.read_csv(\"star_classification.csv\")"
   ]
  },
  {
   "cell_type": "code",
   "execution_count": 20,
   "id": "266477eb",
   "metadata": {},
   "outputs": [
    {
     "data": {
      "text/plain": [
       "(100000, 18)"
      ]
     },
     "execution_count": 20,
     "metadata": {},
     "output_type": "execute_result"
    }
   ],
   "source": [
    "myData.shape"
   ]
  },
  {
   "cell_type": "code",
   "execution_count": 21,
   "id": "3d000f6f",
   "metadata": {},
   "outputs": [
    {
     "data": {
      "text/html": [
       "<div>\n",
       "<style scoped>\n",
       "    .dataframe tbody tr th:only-of-type {\n",
       "        vertical-align: middle;\n",
       "    }\n",
       "\n",
       "    .dataframe tbody tr th {\n",
       "        vertical-align: top;\n",
       "    }\n",
       "\n",
       "    .dataframe thead th {\n",
       "        text-align: right;\n",
       "    }\n",
       "</style>\n",
       "<table border=\"1\" class=\"dataframe\">\n",
       "  <thead>\n",
       "    <tr style=\"text-align: right;\">\n",
       "      <th></th>\n",
       "      <th>obj_ID</th>\n",
       "      <th>alpha</th>\n",
       "      <th>delta</th>\n",
       "      <th>u</th>\n",
       "      <th>g</th>\n",
       "      <th>r</th>\n",
       "      <th>i</th>\n",
       "      <th>z</th>\n",
       "      <th>run_ID</th>\n",
       "      <th>rerun_ID</th>\n",
       "      <th>cam_col</th>\n",
       "      <th>field_ID</th>\n",
       "      <th>spec_obj_ID</th>\n",
       "      <th>class</th>\n",
       "      <th>redshift</th>\n",
       "      <th>plate</th>\n",
       "      <th>MJD</th>\n",
       "      <th>fiber_ID</th>\n",
       "    </tr>\n",
       "  </thead>\n",
       "  <tbody>\n",
       "    <tr>\n",
       "      <th>0</th>\n",
       "      <td>1.237661e+18</td>\n",
       "      <td>135.689107</td>\n",
       "      <td>32.494632</td>\n",
       "      <td>23.87882</td>\n",
       "      <td>22.27530</td>\n",
       "      <td>20.39501</td>\n",
       "      <td>19.16573</td>\n",
       "      <td>18.79371</td>\n",
       "      <td>3606</td>\n",
       "      <td>301</td>\n",
       "      <td>2</td>\n",
       "      <td>79</td>\n",
       "      <td>6.543777e+18</td>\n",
       "      <td>GALAXY</td>\n",
       "      <td>0.634794</td>\n",
       "      <td>5812</td>\n",
       "      <td>56354</td>\n",
       "      <td>171</td>\n",
       "    </tr>\n",
       "    <tr>\n",
       "      <th>1</th>\n",
       "      <td>1.237665e+18</td>\n",
       "      <td>144.826101</td>\n",
       "      <td>31.274185</td>\n",
       "      <td>24.77759</td>\n",
       "      <td>22.83188</td>\n",
       "      <td>22.58444</td>\n",
       "      <td>21.16812</td>\n",
       "      <td>21.61427</td>\n",
       "      <td>4518</td>\n",
       "      <td>301</td>\n",
       "      <td>5</td>\n",
       "      <td>119</td>\n",
       "      <td>1.176014e+19</td>\n",
       "      <td>GALAXY</td>\n",
       "      <td>0.779136</td>\n",
       "      <td>10445</td>\n",
       "      <td>58158</td>\n",
       "      <td>427</td>\n",
       "    </tr>\n",
       "    <tr>\n",
       "      <th>2</th>\n",
       "      <td>1.237661e+18</td>\n",
       "      <td>142.188790</td>\n",
       "      <td>35.582444</td>\n",
       "      <td>25.26307</td>\n",
       "      <td>22.66389</td>\n",
       "      <td>20.60976</td>\n",
       "      <td>19.34857</td>\n",
       "      <td>18.94827</td>\n",
       "      <td>3606</td>\n",
       "      <td>301</td>\n",
       "      <td>2</td>\n",
       "      <td>120</td>\n",
       "      <td>5.152200e+18</td>\n",
       "      <td>GALAXY</td>\n",
       "      <td>0.644195</td>\n",
       "      <td>4576</td>\n",
       "      <td>55592</td>\n",
       "      <td>299</td>\n",
       "    </tr>\n",
       "    <tr>\n",
       "      <th>3</th>\n",
       "      <td>1.237663e+18</td>\n",
       "      <td>338.741038</td>\n",
       "      <td>-0.402828</td>\n",
       "      <td>22.13682</td>\n",
       "      <td>23.77656</td>\n",
       "      <td>21.61162</td>\n",
       "      <td>20.50454</td>\n",
       "      <td>19.25010</td>\n",
       "      <td>4192</td>\n",
       "      <td>301</td>\n",
       "      <td>3</td>\n",
       "      <td>214</td>\n",
       "      <td>1.030107e+19</td>\n",
       "      <td>GALAXY</td>\n",
       "      <td>0.932346</td>\n",
       "      <td>9149</td>\n",
       "      <td>58039</td>\n",
       "      <td>775</td>\n",
       "    </tr>\n",
       "    <tr>\n",
       "      <th>4</th>\n",
       "      <td>1.237680e+18</td>\n",
       "      <td>345.282593</td>\n",
       "      <td>21.183866</td>\n",
       "      <td>19.43718</td>\n",
       "      <td>17.58028</td>\n",
       "      <td>16.49747</td>\n",
       "      <td>15.97711</td>\n",
       "      <td>15.54461</td>\n",
       "      <td>8102</td>\n",
       "      <td>301</td>\n",
       "      <td>3</td>\n",
       "      <td>137</td>\n",
       "      <td>6.891865e+18</td>\n",
       "      <td>GALAXY</td>\n",
       "      <td>0.116123</td>\n",
       "      <td>6121</td>\n",
       "      <td>56187</td>\n",
       "      <td>842</td>\n",
       "    </tr>\n",
       "  </tbody>\n",
       "</table>\n",
       "</div>"
      ],
      "text/plain": [
       "         obj_ID       alpha      delta         u         g         r  \\\n",
       "0  1.237661e+18  135.689107  32.494632  23.87882  22.27530  20.39501   \n",
       "1  1.237665e+18  144.826101  31.274185  24.77759  22.83188  22.58444   \n",
       "2  1.237661e+18  142.188790  35.582444  25.26307  22.66389  20.60976   \n",
       "3  1.237663e+18  338.741038  -0.402828  22.13682  23.77656  21.61162   \n",
       "4  1.237680e+18  345.282593  21.183866  19.43718  17.58028  16.49747   \n",
       "\n",
       "          i         z  run_ID  rerun_ID  cam_col  field_ID   spec_obj_ID  \\\n",
       "0  19.16573  18.79371    3606       301        2        79  6.543777e+18   \n",
       "1  21.16812  21.61427    4518       301        5       119  1.176014e+19   \n",
       "2  19.34857  18.94827    3606       301        2       120  5.152200e+18   \n",
       "3  20.50454  19.25010    4192       301        3       214  1.030107e+19   \n",
       "4  15.97711  15.54461    8102       301        3       137  6.891865e+18   \n",
       "\n",
       "    class  redshift  plate    MJD  fiber_ID  \n",
       "0  GALAXY  0.634794   5812  56354       171  \n",
       "1  GALAXY  0.779136  10445  58158       427  \n",
       "2  GALAXY  0.644195   4576  55592       299  \n",
       "3  GALAXY  0.932346   9149  58039       775  \n",
       "4  GALAXY  0.116123   6121  56187       842  "
      ]
     },
     "execution_count": 21,
     "metadata": {},
     "output_type": "execute_result"
    }
   ],
   "source": [
    "myData.head()"
   ]
  },
  {
   "cell_type": "code",
   "execution_count": 22,
   "id": "44cb9dd5",
   "metadata": {},
   "outputs": [
    {
     "name": "stdout",
     "output_type": "stream",
     "text": [
      "<class 'pandas.core.frame.DataFrame'>\n",
      "RangeIndex: 100000 entries, 0 to 99999\n",
      "Data columns (total 18 columns):\n",
      " #   Column       Non-Null Count   Dtype  \n",
      "---  ------       --------------   -----  \n",
      " 0   obj_ID       100000 non-null  float64\n",
      " 1   alpha        100000 non-null  float64\n",
      " 2   delta        100000 non-null  float64\n",
      " 3   u            100000 non-null  float64\n",
      " 4   g            100000 non-null  float64\n",
      " 5   r            100000 non-null  float64\n",
      " 6   i            100000 non-null  float64\n",
      " 7   z            100000 non-null  float64\n",
      " 8   run_ID       100000 non-null  int64  \n",
      " 9   rerun_ID     100000 non-null  int64  \n",
      " 10  cam_col      100000 non-null  int64  \n",
      " 11  field_ID     100000 non-null  int64  \n",
      " 12  spec_obj_ID  100000 non-null  float64\n",
      " 13  class        100000 non-null  object \n",
      " 14  redshift     100000 non-null  float64\n",
      " 15  plate        100000 non-null  int64  \n",
      " 16  MJD          100000 non-null  int64  \n",
      " 17  fiber_ID     100000 non-null  int64  \n",
      "dtypes: float64(10), int64(7), object(1)\n",
      "memory usage: 13.7+ MB\n"
     ]
    }
   ],
   "source": [
    "myData.info()"
   ]
  },
  {
   "cell_type": "code",
   "execution_count": 26,
   "id": "e50406ce",
   "metadata": {},
   "outputs": [
    {
     "data": {
      "text/plain": [
       "array(['GALAXY', 'QSO', 'STAR'], dtype=object)"
      ]
     },
     "execution_count": 26,
     "metadata": {},
     "output_type": "execute_result"
    }
   ],
   "source": [
    "myData[\"class\"].unique()\n"
   ]
  },
  {
   "cell_type": "code",
   "execution_count": 44,
   "id": "b00171b2",
   "metadata": {
    "scrolled": true
   },
   "outputs": [
    {
     "data": {
      "text/plain": [
       "GALAXY    59445\n",
       "STAR      21594\n",
       "QSO       18961\n",
       "Name: class, dtype: int64"
      ]
     },
     "execution_count": 44,
     "metadata": {},
     "output_type": "execute_result"
    }
   ],
   "source": [
    "myData[\"class\"].value_counts()\n"
   ]
  },
  {
   "cell_type": "code",
   "execution_count": 45,
   "id": "84911738",
   "metadata": {},
   "outputs": [
    {
     "name": "stderr",
     "output_type": "stream",
     "text": [
      "D:\\Anaconda3\\lib\\site-packages\\seaborn\\_decorators.py:36: FutureWarning: Pass the following variable as a keyword arg: x. From version 0.12, the only valid positional argument will be `data`, and passing other arguments without an explicit keyword will result in an error or misinterpretation.\n",
      "  warnings.warn(\n"
     ]
    },
    {
     "data": {
      "image/png": "[encoded data removed]",
      "text/plain": [
       "<Figure size 432x288 with 1 Axes>"
      ]
     },
     "metadata": {
      "needs_background": "light"
     },
     "output_type": "display_data"
    }
   ],
   "source": [
    "sns.countplot(myData[\"class\"],label=\"Count\")\n",
    "plt.show()"
   ]
  },
  {
   "cell_type": "code",
   "execution_count": 46,
   "id": "3b622fb0",
   "metadata": {},
   "outputs": [],
   "source": [
    "myData = myData.drop([\"rerun_ID\"], axis = 1)"
   ]
  },
  {
   "cell_type": "code",
   "execution_count": 51,
   "id": "9561cb20",
   "metadata": {},
   "outputs": [],
   "source": [
    "x = myData.drop(['class'], axis = 1)\n",
    "y = myData.loc[:,'class'].values"
   ]
  },
  {
   "cell_type": "code",
   "execution_count": 55,
   "id": "12d20494",
   "metadata": {},
   "outputs": [
    {
     "data": {
      "text/html": [
       "<div>\n",
       "<style scoped>\n",
       "    .dataframe tbody tr th:only-of-type {\n",
       "        vertical-align: middle;\n",
       "    }\n",
       "\n",
       "    .dataframe tbody tr th {\n",
       "        vertical-align: top;\n",
       "    }\n",
       "\n",
       "    .dataframe thead th {\n",
       "        text-align: right;\n",
       "    }\n",
       "</style>\n",
       "<table border=\"1\" class=\"dataframe\">\n",
       "  <thead>\n",
       "    <tr style=\"text-align: right;\">\n",
       "      <th></th>\n",
       "      <th>obj_ID</th>\n",
       "      <th>alpha</th>\n",
       "      <th>delta</th>\n",
       "      <th>u</th>\n",
       "      <th>g</th>\n",
       "      <th>r</th>\n",
       "      <th>i</th>\n",
       "      <th>z</th>\n",
       "      <th>run_ID</th>\n",
       "      <th>cam_col</th>\n",
       "      <th>field_ID</th>\n",
       "      <th>spec_obj_ID</th>\n",
       "      <th>redshift</th>\n",
       "      <th>plate</th>\n",
       "      <th>MJD</th>\n",
       "      <th>fiber_ID</th>\n",
       "    </tr>\n",
       "  </thead>\n",
       "  <tbody>\n",
       "    <tr>\n",
       "      <th>3035</th>\n",
       "      <td>1.237679e+18</td>\n",
       "      <td>327.911684</td>\n",
       "      <td>0.979107</td>\n",
       "      <td>20.87900</td>\n",
       "      <td>19.50740</td>\n",
       "      <td>18.83967</td>\n",
       "      <td>18.55160</td>\n",
       "      <td>18.48203</td>\n",
       "      <td>7712</td>\n",
       "      <td>1</td>\n",
       "      <td>115</td>\n",
       "      <td>1.658574e+18</td>\n",
       "      <td>-0.001445</td>\n",
       "      <td>1473</td>\n",
       "      <td>52908</td>\n",
       "      <td>449</td>\n",
       "    </tr>\n",
       "    <tr>\n",
       "      <th>1231</th>\n",
       "      <td>1.237655e+18</td>\n",
       "      <td>163.174126</td>\n",
       "      <td>5.388352</td>\n",
       "      <td>25.23506</td>\n",
       "      <td>22.83528</td>\n",
       "      <td>21.14528</td>\n",
       "      <td>20.05072</td>\n",
       "      <td>19.57267</td>\n",
       "      <td>2126</td>\n",
       "      <td>5</td>\n",
       "      <td>294</td>\n",
       "      <td>5.465232e+18</td>\n",
       "      <td>0.547858</td>\n",
       "      <td>4854</td>\n",
       "      <td>55685</td>\n",
       "      <td>413</td>\n",
       "    </tr>\n",
       "    <tr>\n",
       "      <th>19579</th>\n",
       "      <td>1.237662e+18</td>\n",
       "      <td>236.028892</td>\n",
       "      <td>30.652301</td>\n",
       "      <td>25.19258</td>\n",
       "      <td>22.03289</td>\n",
       "      <td>20.24843</td>\n",
       "      <td>19.23269</td>\n",
       "      <td>18.73792</td>\n",
       "      <td>3919</td>\n",
       "      <td>5</td>\n",
       "      <td>207</td>\n",
       "      <td>5.641988e+18</td>\n",
       "      <td>0.547722</td>\n",
       "      <td>5011</td>\n",
       "      <td>55739</td>\n",
       "      <td>375</td>\n",
       "    </tr>\n",
       "    <tr>\n",
       "      <th>1910</th>\n",
       "      <td>1.237649e+18</td>\n",
       "      <td>245.753898</td>\n",
       "      <td>-0.095878</td>\n",
       "      <td>25.28182</td>\n",
       "      <td>23.39739</td>\n",
       "      <td>22.27000</td>\n",
       "      <td>19.39130</td>\n",
       "      <td>19.64006</td>\n",
       "      <td>745</td>\n",
       "      <td>3</td>\n",
       "      <td>581</td>\n",
       "      <td>3.895699e+17</td>\n",
       "      <td>0.002096</td>\n",
       "      <td>346</td>\n",
       "      <td>51693</td>\n",
       "      <td>31</td>\n",
       "    </tr>\n",
       "    <tr>\n",
       "      <th>66370</th>\n",
       "      <td>1.237679e+18</td>\n",
       "      <td>43.559383</td>\n",
       "      <td>-1.925292</td>\n",
       "      <td>21.97243</td>\n",
       "      <td>22.38624</td>\n",
       "      <td>21.77308</td>\n",
       "      <td>21.26570</td>\n",
       "      <td>20.95766</td>\n",
       "      <td>7780</td>\n",
       "      <td>4</td>\n",
       "      <td>193</td>\n",
       "      <td>1.048456e+19</td>\n",
       "      <td>0.802195</td>\n",
       "      <td>9312</td>\n",
       "      <td>57784</td>\n",
       "      <td>644</td>\n",
       "    </tr>\n",
       "  </tbody>\n",
       "</table>\n",
       "</div>"
      ],
      "text/plain": [
       "             obj_ID       alpha      delta         u         g         r  \\\n",
       "3035   1.237679e+18  327.911684   0.979107  20.87900  19.50740  18.83967   \n",
       "1231   1.237655e+18  163.174126   5.388352  25.23506  22.83528  21.14528   \n",
       "19579  1.237662e+18  236.028892  30.652301  25.19258  22.03289  20.24843   \n",
       "1910   1.237649e+18  245.753898  -0.095878  25.28182  23.39739  22.27000   \n",
       "66370  1.237679e+18   43.559383  -1.925292  21.97243  22.38624  21.77308   \n",
       "\n",
       "              i         z  run_ID  cam_col  field_ID   spec_obj_ID  redshift  \\\n",
       "3035   18.55160  18.48203    7712        1       115  1.658574e+18 -0.001445   \n",
       "1231   20.05072  19.57267    2126        5       294  5.465232e+18  0.547858   \n",
       "19579  19.23269  18.73792    3919        5       207  5.641988e+18  0.547722   \n",
       "1910   19.39130  19.64006     745        3       581  3.895699e+17  0.002096   \n",
       "66370  21.26570  20.95766    7780        4       193  1.048456e+19  0.802195   \n",
       "\n",
       "       plate    MJD  fiber_ID  \n",
       "3035    1473  52908       449  \n",
       "1231    4854  55685       413  \n",
       "19579   5011  55739       375  \n",
       "1910     346  51693        31  \n",
       "66370   9312  57784       644  "
      ]
     },
     "execution_count": 55,
     "metadata": {},
     "output_type": "execute_result"
    }
   ],
   "source": [
    "# shuffle the data\n",
    "from sklearn.utils import shuffle\n",
    "x, y = shuffle(x, y)\n",
    "x.head()"
   ]
  },
  {
   "cell_type": "code",
   "execution_count": 56,
   "id": "18ce7436",
   "metadata": {},
   "outputs": [
    {
     "name": "stdout",
     "output_type": "stream",
     "text": [
      "['STAR' 'GALAXY' 'GALAXY' 'STAR' 'GALAXY']\n"
     ]
    }
   ],
   "source": [
    "print(y[:5])"
   ]
  },
  {
   "cell_type": "code",
   "execution_count": 57,
   "id": "29c5aa7e",
   "metadata": {},
   "outputs": [],
   "source": [
    "from sklearn.preprocessing import StandardScaler\n",
    "scaler = StandardScaler()\n",
    "scaler.fit(x)\n",
    "x = scaler.transform(x)"
   ]
  },
  {
   "cell_type": "code",
   "execution_count": 59,
   "id": "b2cc2977",
   "metadata": {},
   "outputs": [
    {
     "name": "stdout",
     "output_type": "stream",
     "text": [
      "[[ 1.64414113e+00  1.55730393e+00 -1.17875833e+00 -3.46710219e-02\n",
      "  -3.22514222e-02 -4.34609496e-01 -3.03349723e-01 -5.88692519e-03\n",
      "   1.64429373e+00 -1.58271045e+00 -4.77352954e-01 -1.24106764e+00\n",
      "  -7.91163829e-01 -1.24107436e+00 -1.48226944e+00 -1.14768218e-03]\n",
      " [-1.19871930e+00 -1.49789916e-01 -9.54307226e-01  1.02445095e-01\n",
      "   7.25632550e-02  8.08474195e-01  5.49447329e-01  2.84877671e-02\n",
      "  -1.19880918e+00  9.37920462e-01  7.23906066e-01 -9.58635899e-02\n",
      "  -3.94174918e-02 -9.58611096e-02  5.32783090e-02 -1.33259208e-01]\n",
      " [-2.86133594e-01  6.05167997e-01  3.31745460e-01  1.01107948e-01\n",
      "   4.72912353e-02  3.24932049e-01  8.40986093e-02  2.17819253e-03\n",
      "  -2.86227100e-01  9.37920462e-01  1.40053917e-01 -4.26879387e-02\n",
      "  -3.96041611e-02 -4.26820266e-02  8.31377178e-02 -2.72710263e-01]\n",
      " [-1.90173433e+00  7.05943418e-01 -1.23348010e+00  1.03916964e-01\n",
      "   9.02674325e-02  1.41487384e+00  1.74326303e-01  3.06117589e-02\n",
      "  -1.90169589e+00 -3.22394996e-01  2.64994706e+00 -1.62283788e+00\n",
      "  -7.86316861e-01 -1.62281210e+00 -2.15410613e+00 -1.53510929e+00]\n",
      " [ 1.67894268e+00 -1.38929835e+00 -1.32660577e+00 -2.53021361e-04\n",
      "   5.84203224e-02  1.14695639e+00  1.24060705e+00  7.21397558e-02\n",
      "   1.67890364e+00  3.07762733e-01  4.61006973e-02  1.41416228e+00\n",
      "   3.08653316e-01  1.41415387e+00  1.21392459e+00  7.14456417e-01]]\n"
     ]
    }
   ],
   "source": [
    "print(x[:5])"
   ]
  },
  {
   "cell_type": "code",
   "execution_count": 61,
   "id": "f969972e",
   "metadata": {},
   "outputs": [],
   "source": [
    "# split the train and test set\n",
    "x_train = x[:-10000]\n",
    "y_train = y[:-10000]\n",
    "x_test = x[-10000:]\n",
    "y_test = y[-10000:]"
   ]
  },
  {
   "cell_type": "code",
   "execution_count": 63,
   "id": "4d076e83",
   "metadata": {},
   "outputs": [
    {
     "data": {
      "text/plain": [
       "KNeighborsClassifier()"
      ]
     },
     "execution_count": 63,
     "metadata": {},
     "output_type": "execute_result"
    }
   ],
   "source": [
    "# knn\n",
    "from sklearn.neighbors import KNeighborsClassifier\n",
    "knn = KNeighborsClassifier()\n",
    "knn.fit(x_train,y_train)\n"
   ]
  },
  {
   "cell_type": "code",
   "execution_count": 64,
   "id": "ef3c441c",
   "metadata": {},
   "outputs": [],
   "source": [
    "knn_y_predict = knn.predict(x_test)"
   ]
  },
  {
   "cell_type": "code",
   "execution_count": 68,
   "id": "5f3df520",
   "metadata": {},
   "outputs": [
    {
     "name": "stdout",
     "output_type": "stream",
     "text": [
      "[[5696   61  168]\n",
      " [ 364 1595   21]\n",
      " [ 413    5 1677]]\n"
     ]
    }
   ],
   "source": [
    "from sklearn.metrics import confusion_matrix\n",
    "print(confusion_matrix(y_test, knn_y_predict))"
   ]
  },
  {
   "cell_type": "code",
   "execution_count": 69,
   "id": "5f8f3dad",
   "metadata": {},
   "outputs": [
    {
     "data": {
      "text/plain": [
       "<sklearn.metrics._plot.confusion_matrix.ConfusionMatrixDisplay at 0x18f3538a7c0>"
      ]
     },
     "execution_count": 69,
     "metadata": {},
     "output_type": "execute_result"
    },
    {
     "data": {
      "image/png": "[encoded data removed]",
      "text/plain": [
       "<Figure size 432x288 with 2 Axes>"
      ]
     },
     "metadata": {
      "needs_background": "light"
     },
     "output_type": "display_data"
    }
   ],
   "source": [
    "from sklearn.metrics import ConfusionMatrixDisplay\n",
    "ConfusionMatrixDisplay(confusion_matrix(y_test, knn_y_predict)).plot()"
   ]
  },
  {
   "cell_type": "code",
   "execution_count": 70,
   "id": "c9bf6665",
   "metadata": {},
   "outputs": [
    {
     "data": {
      "text/plain": [
       "0.8968"
      ]
     },
     "execution_count": 70,
     "metadata": {},
     "output_type": "execute_result"
    }
   ],
   "source": [
    "knn.score(x_test, y_test)"
   ]
  },
  {
   "cell_type": "code",
   "execution_count": 71,
   "id": "fd95549b",
   "metadata": {},
   "outputs": [
    {
     "name": "stdout",
     "output_type": "stream",
     "text": [
      "0.9555\n"
     ]
    }
   ],
   "source": [
    "from sklearn import svm\n",
    "svc = svm.SVC(kernel='rbf')\n",
    "svc.fit(x_train,y_train)\n",
    "svc_y_predict = svc.predict(x_test)\n",
    "score = svc.score(x_test, y_test)\n",
    "\n",
    "print(np.mean(score))"
   ]
  },
  {
   "cell_type": "code",
   "execution_count": 73,
   "id": "ff89289b",
   "metadata": {},
   "outputs": [
    {
     "name": "stdout",
     "output_type": "stream",
     "text": [
      "[[5753   53  119]\n",
      " [ 239 1739    2]\n",
      " [  32    0 2063]]\n"
     ]
    }
   ],
   "source": [
    "print(confusion_matrix(y_test, svc_y_predict))"
   ]
  },
  {
   "cell_type": "code",
   "execution_count": 75,
   "id": "df518bae",
   "metadata": {},
   "outputs": [
    {
     "data": {
      "text/plain": [
       "<sklearn.metrics._plot.confusion_matrix.ConfusionMatrixDisplay at 0x18f3abdb5e0>"
      ]
     },
     "execution_count": 75,
     "metadata": {},
     "output_type": "execute_result"
    },
    {
     "data": {
      "image/png": "[encoded data removed]",
      "text/plain": [
       "<Figure size 432x288 with 2 Axes>"
      ]
     },
     "metadata": {
      "needs_background": "light"
     },
     "output_type": "display_data"
    }
   ],
   "source": [
    "ConfusionMatrixDisplay(confusion_matrix(y_test, svc_y_predict)).plot()"
   ]
  },
  {
   "cell_type": "code",
   "execution_count": 77,
   "id": "25395730",
   "metadata": {},
   "outputs": [
    {
     "name": "stdout",
     "output_type": "stream",
     "text": [
      "              precision    recall  f1-score   support\n",
      "\n",
      "      GALAXY       0.88      0.96      0.92      5925\n",
      "         QSO       0.96      0.81      0.88      1980\n",
      "        STAR       0.90      0.80      0.85      2095\n",
      "\n",
      "    accuracy                           0.90     10000\n",
      "   macro avg       0.91      0.86      0.88     10000\n",
      "weighted avg       0.90      0.90      0.90     10000\n",
      "\n"
     ]
    }
   ],
   "source": [
    "from sklearn.metrics import classification_report\n",
    "print(classification_report(y_test, knn_y_predict))"
   ]
  },
  {
   "cell_type": "code",
   "execution_count": 78,
   "id": "67b7170d",
   "metadata": {},
   "outputs": [
    {
     "name": "stdout",
     "output_type": "stream",
     "text": [
      "              precision    recall  f1-score   support\n",
      "\n",
      "      GALAXY       0.96      0.97      0.96      5925\n",
      "         QSO       0.97      0.88      0.92      1980\n",
      "        STAR       0.94      0.98      0.96      2095\n",
      "\n",
      "    accuracy                           0.96     10000\n",
      "   macro avg       0.96      0.94      0.95     10000\n",
      "weighted avg       0.96      0.96      0.96     10000\n",
      "\n"
     ]
    }
   ],
   "source": [
    "print(classification_report(y_test, svc_y_predict))"
   ]
  },
  {
   "cell_type": "code",
   "execution_count": null,
   "id": "a93f0cb1",
   "metadata": {},
   "outputs": [],
   "source": []
  }
 ],
 "metadata": {
  "kernelspec": {
   "display_name": "Python 3 (ipykernel)",
   "language": "python",
   "name": "python3"
  },
  "language_info": {
   "codemirror_mode": {
    "name": "ipython",
    "version": 3
   },
   "file_extension": ".py",
   "mimetype": "text/x-python",
   "name": "python",
   "nbconvert_exporter": "python",
   "pygments_lexer": "ipython3",
   "version": "3.9.7"
  }
 },
 "nbformat": 4,
 "nbformat_minor": 5
}
